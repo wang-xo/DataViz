{
 "cells": [
  {
   "cell_type": "code",
   "execution_count": 1,
   "metadata": {},
   "outputs": [],
   "source": [
    "from chord import Chord"
   ]
  },
  {
   "cell_type": "code",
   "execution_count": 2,
   "metadata": {},
   "outputs": [],
   "source": [
    "matrix = [\n",
    "    [0, 5, 6, 4, 7, 4],\n",
    "    [5, 0, 5, 4, 6, 5],\n",
    "    [6, 5, 0, 4, 5, 5],\n",
    "    [4, 4, 4, 0, 5, 5],\n",
    "    [7, 6, 5, 5, 0, 4],\n",
    "    [4, 5, 5, 5, 4, 0],\n",
    "]\n",
    "\n",
    "names = [\"Action\", \"Adventure\", \"Comedy\", \"Drama\", \"Fantasy\", \"Thriller\"]"
   ]
  },
  {
   "cell_type": "code",
   "execution_count": 3,
   "metadata": {},
   "outputs": [],
   "source": [
    "Chord(matrix, names).to_html(\"example.html\")"
   ]
  },
  {
   "cell_type": "code",
   "execution_count": null,
   "metadata": {},
   "outputs": [],
   "source": [
    "# what the hell how is this broken now"
   ]
  }
 ],
 "metadata": {
  "kernelspec": {
   "display_name": "Python [conda env:.conda-dv] *",
   "language": "python",
   "name": "conda-env-.conda-dv-py"
  },
  "language_info": {
   "codemirror_mode": {
    "name": "ipython",
    "version": 3
   },
   "file_extension": ".py",
   "mimetype": "text/x-python",
   "name": "python",
   "nbconvert_exporter": "python",
   "pygments_lexer": "ipython3",
   "version": "3.7.5"
  }
 },
 "nbformat": 4,
 "nbformat_minor": 2
}
