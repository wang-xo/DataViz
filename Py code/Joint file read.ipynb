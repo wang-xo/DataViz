{
 "cells": [
  {
   "cell_type": "code",
   "execution_count": 1,
   "metadata": {},
   "outputs": [],
   "source": [
    "# Import pandas \n",
    "import pandas as pd "
   ]
  },
  {
   "cell_type": "code",
   "execution_count": 3,
   "metadata": {},
   "outputs": [
    {
     "ename": "SyntaxError",
     "evalue": "(unicode error) 'unicodeescape' codec can't decode bytes in position 2-3: truncated \\UXXXXXXXX escape (<ipython-input-3-04b774756951>, line 2)",
     "output_type": "error",
     "traceback": [
      "\u001b[1;36m  File \u001b[1;32m\"<ipython-input-3-04b774756951>\"\u001b[1;36m, line \u001b[1;32m2\u001b[0m\n\u001b[1;33m    matched = pd.read_csv(\"C:\\Users\\verna\\OneDrive\\Desktop\\words_songs_matched.csv\")\u001b[0m\n\u001b[1;37m                         ^\u001b[0m\n\u001b[1;31mSyntaxError\u001b[0m\u001b[1;31m:\u001b[0m (unicode error) 'unicodeescape' codec can't decode bytes in position 2-3: truncated \\UXXXXXXXX escape\n"
     ]
    }
   ],
   "source": [
    "# reading csv file  \n",
    "matched = pd.read_csv(\"words_songs_matched.csv\") "
   ]
  },
  {
   "cell_type": "code",
   "execution_count": 5,
   "metadata": {},
   "outputs": [
    {
     "data": {
      "text/html": [
       "<div>\n",
       "<style scoped>\n",
       "    .dataframe tbody tr th:only-of-type {\n",
       "        vertical-align: middle;\n",
       "    }\n",
       "\n",
       "    .dataframe tbody tr th {\n",
       "        vertical-align: top;\n",
       "    }\n",
       "\n",
       "    .dataframe thead th {\n",
       "        text-align: right;\n",
       "    }\n",
       "</style>\n",
       "<table border=\"1\" class=\"dataframe\">\n",
       "  <thead>\n",
       "    <tr style=\"text-align: right;\">\n",
       "      <th></th>\n",
       "      <th>word</th>\n",
       "      <th>count</th>\n",
       "      <th>track_id</th>\n",
       "      <th>song_id</th>\n",
       "      <th>artist_id</th>\n",
       "      <th>title</th>\n",
       "      <th>artist_name</th>\n",
       "      <th>duration</th>\n",
       "      <th>year</th>\n",
       "      <th>artist_hotttnesss</th>\n",
       "    </tr>\n",
       "  </thead>\n",
       "  <tbody>\n",
       "    <tr>\n",
       "      <td>0</td>\n",
       "      <td>i</td>\n",
       "      <td>6</td>\n",
       "      <td>TRAAAAV128F421A322</td>\n",
       "      <td>SOQPWCR12A6D4FB2A3</td>\n",
       "      <td>AR73AIO1187B9AD57B</td>\n",
       "      <td>A Poor Recipe For Civic Cohesion</td>\n",
       "      <td>Western Addiction</td>\n",
       "      <td>118.07302</td>\n",
       "      <td>2005</td>\n",
       "      <td>0.386606</td>\n",
       "    </tr>\n",
       "    <tr>\n",
       "      <td>1</td>\n",
       "      <td>the</td>\n",
       "      <td>4</td>\n",
       "      <td>TRAAAAV128F421A322</td>\n",
       "      <td>SOQPWCR12A6D4FB2A3</td>\n",
       "      <td>AR73AIO1187B9AD57B</td>\n",
       "      <td>A Poor Recipe For Civic Cohesion</td>\n",
       "      <td>Western Addiction</td>\n",
       "      <td>118.07302</td>\n",
       "      <td>2005</td>\n",
       "      <td>0.386606</td>\n",
       "    </tr>\n",
       "    <tr>\n",
       "      <td>2</td>\n",
       "      <td>you</td>\n",
       "      <td>2</td>\n",
       "      <td>TRAAAAV128F421A322</td>\n",
       "      <td>SOQPWCR12A6D4FB2A3</td>\n",
       "      <td>AR73AIO1187B9AD57B</td>\n",
       "      <td>A Poor Recipe For Civic Cohesion</td>\n",
       "      <td>Western Addiction</td>\n",
       "      <td>118.07302</td>\n",
       "      <td>2005</td>\n",
       "      <td>0.386606</td>\n",
       "    </tr>\n",
       "    <tr>\n",
       "      <td>3</td>\n",
       "      <td>to</td>\n",
       "      <td>2</td>\n",
       "      <td>TRAAAAV128F421A322</td>\n",
       "      <td>SOQPWCR12A6D4FB2A3</td>\n",
       "      <td>AR73AIO1187B9AD57B</td>\n",
       "      <td>A Poor Recipe For Civic Cohesion</td>\n",
       "      <td>Western Addiction</td>\n",
       "      <td>118.07302</td>\n",
       "      <td>2005</td>\n",
       "      <td>0.386606</td>\n",
       "    </tr>\n",
       "    <tr>\n",
       "      <td>4</td>\n",
       "      <td>and</td>\n",
       "      <td>5</td>\n",
       "      <td>TRAAAAV128F421A322</td>\n",
       "      <td>SOQPWCR12A6D4FB2A3</td>\n",
       "      <td>AR73AIO1187B9AD57B</td>\n",
       "      <td>A Poor Recipe For Civic Cohesion</td>\n",
       "      <td>Western Addiction</td>\n",
       "      <td>118.07302</td>\n",
       "      <td>2005</td>\n",
       "      <td>0.386606</td>\n",
       "    </tr>\n",
       "  </tbody>\n",
       "</table>\n",
       "</div>"
      ],
      "text/plain": [
       "  word  count            track_id             song_id           artist_id  \\\n",
       "0    i      6  TRAAAAV128F421A322  SOQPWCR12A6D4FB2A3  AR73AIO1187B9AD57B   \n",
       "1  the      4  TRAAAAV128F421A322  SOQPWCR12A6D4FB2A3  AR73AIO1187B9AD57B   \n",
       "2  you      2  TRAAAAV128F421A322  SOQPWCR12A6D4FB2A3  AR73AIO1187B9AD57B   \n",
       "3   to      2  TRAAAAV128F421A322  SOQPWCR12A6D4FB2A3  AR73AIO1187B9AD57B   \n",
       "4  and      5  TRAAAAV128F421A322  SOQPWCR12A6D4FB2A3  AR73AIO1187B9AD57B   \n",
       "\n",
       "                              title        artist_name   duration  year  \\\n",
       "0  A Poor Recipe For Civic Cohesion  Western Addiction  118.07302  2005   \n",
       "1  A Poor Recipe For Civic Cohesion  Western Addiction  118.07302  2005   \n",
       "2  A Poor Recipe For Civic Cohesion  Western Addiction  118.07302  2005   \n",
       "3  A Poor Recipe For Civic Cohesion  Western Addiction  118.07302  2005   \n",
       "4  A Poor Recipe For Civic Cohesion  Western Addiction  118.07302  2005   \n",
       "\n",
       "   artist_hotttnesss  \n",
       "0           0.386606  \n",
       "1           0.386606  \n",
       "2           0.386606  \n",
       "3           0.386606  \n",
       "4           0.386606  "
      ]
     },
     "execution_count": 5,
     "metadata": {},
     "output_type": "execute_result"
    }
   ],
   "source": [
    "matched.head()"
   ]
  },
  {
   "cell_type": "code",
   "execution_count": 8,
   "metadata": {},
   "outputs": [
    {
     "data": {
      "text/plain": [
       "array(['i', 'the', 'you', ..., 'pudiera', 'vuela', 'bla'], dtype=object)"
      ]
     },
     "execution_count": 8,
     "metadata": {},
     "output_type": "execute_result"
    }
   ],
   "source": [
    "matched.word.unique()"
   ]
  },
  {
   "cell_type": "code",
   "execution_count": 9,
   "metadata": {},
   "outputs": [
    {
     "data": {
      "text/plain": [
       "array([2005, 1969,    0, 1982, 2007, 2004, 1972, 1984, 1983, 2000, 2008,\n",
       "       2006, 1986, 1987, 1999, 2001, 1998, 1985, 1994, 1997, 1988, 1995,\n",
       "       2003, 1992, 2009, 1990, 1981, 1963, 1978, 1979, 2002, 1993, 1971,\n",
       "       1996, 1991, 1974, 1980, 1973, 2010, 1958, 1967, 1975, 1989, 1970,\n",
       "       1977, 1966, 1976, 1956, 1927, 1968, 1964, 1962, 1960, 1955, 1965,\n",
       "       1959, 1961, 1930, 1954, 1929, 1957, 1946, 1953, 1945, 1949, 1947,\n",
       "       1952, 1950, 1932, 1936, 1951, 1938, 1939, 1941, 1940, 1935, 1934,\n",
       "       1942, 1928, 1937, 1943, 1931, 1933, 1948, 1944, 1925, 1924, 1926],\n",
       "      dtype=int64)"
      ]
     },
     "execution_count": 9,
     "metadata": {},
     "output_type": "execute_result"
    }
   ],
   "source": [
    "matched.year.unique()"
   ]
  },
  {
   "cell_type": "code",
   "execution_count": 10,
   "metadata": {},
   "outputs": [
    {
     "data": {
      "text/plain": [
       "array(['Western Addiction', 'The Box Tops', 'Jamie Cullum', ...,\n",
       "       'Jurassic 5 / Nelly Furtado', 'Ágata', '69 Boyz'], dtype=object)"
      ]
     },
     "execution_count": 10,
     "metadata": {},
     "output_type": "execute_result"
    }
   ],
   "source": [
    "matched.artist_name.unique()"
   ]
  },
  {
   "cell_type": "code",
   "execution_count": null,
   "metadata": {},
   "outputs": [],
   "source": []
  }
 ],
 "metadata": {
  "kernelspec": {
   "display_name": "Python 3",
   "language": "python",
   "name": "python3"
  },
  "language_info": {
   "codemirror_mode": {
    "name": "ipython",
    "version": 3
   },
   "file_extension": ".py",
   "mimetype": "text/x-python",
   "name": "python",
   "nbconvert_exporter": "python",
   "pygments_lexer": "ipython3",
   "version": "3.7.4"
  }
 },
 "nbformat": 4,
 "nbformat_minor": 2
}
