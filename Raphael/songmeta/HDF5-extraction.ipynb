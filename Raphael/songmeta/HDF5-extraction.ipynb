{
 "cells": [
  {
   "cell_type": "code",
   "execution_count": 215,
   "metadata": {},
   "outputs": [],
   "source": [
    "import tables\n",
    "import pandas as pd\n",
    "import numpy as np\n",
    "delimiter = ','\n",
    "d = {}\n",
    "h5 = tables.open_file('msd_summary_file.h5', mode='r')\n",
    "#copy data from HDF\n",
    "d['track_id'] = np.copy(h5.root.analysis.songs.cols.track_id).astype(np.unicode)\n",
    "d['song_hotttnesss'] = np.copy(h5.root.metadata.songs.cols.song_hotttnesss)\n",
    "d['artist_familiarity'] = np.copy(h5.root.metadata.songs.cols.artist_familiarity)\n",
    "d['artist_latitude'] = np.copy(h5.root.metadata.songs.cols.artist_latitude)\n",
    "d['artist_longitude'] = np.copy(h5.root.metadata.songs.cols.artist_longitude)\n",
    "d['key'] = np.copy(h5.root.analysis.songs.cols.key)\n",
    "d['key_confidence'] = np.copy(h5.root.analysis.songs.cols.key_confidence)\n",
    "d['loudness'] = np.copy(h5.root.analysis.songs.cols.loudness)\n",
    "d['mode'] = np.copy(h5.root.analysis.songs.cols.mode)\n",
    "d['mode_confidence'] = np.copy(h5.root.analysis.songs.cols.mode_confidence)\n",
    "d['tempo'] = np.copy(h5.root.analysis.songs.cols.tempo)\n",
    "d['time_signature'] = np.copy(h5.root.analysis.songs.cols.time_signature)\n",
    "d['time_signature_confidence'] = np.copy(h5.root.analysis.songs.cols.time_signature_confidence)\n",
    "h5.close()"
   ]
  },
  {
   "cell_type": "code",
   "execution_count": 262,
   "metadata": {},
   "outputs": [],
   "source": [
    "d_c = np.c_[d['track_id'],\n",
    "            d['song_hotttnesss'],\n",
    "            d['artist_familiarity'],\n",
    "            d['artist_latitude'],\n",
    "            d['artist_longitude'],\n",
    "            d['key'],\n",
    "            d['key_confidence'],\n",
    "            d['loudness'],\n",
    "            d['mode'],\n",
    "            d['mode_confidence'],\n",
    "            d['tempo'],\n",
    "            d['time_signature'],\n",
    "            d['time_signature_confidence']]"
   ]
  },
  {
   "cell_type": "code",
   "execution_count": 263,
   "metadata": {},
   "outputs": [],
   "source": [
    "header = delimiter.join(['track_id',\n",
    "                   'song_hotttness',\n",
    "                   'artist_familiarity',\n",
    "                   'artist_latitude',\n",
    "                   'artist_longitude',\n",
    "                   'key',\n",
    "                   'key_confidence',\n",
    "                   'loudness',\n",
    "                   'mode',\n",
    "                   'mode_confidence',\n",
    "                   'tempo',\n",
    "                   'time_signature',\n",
    "                   'time_signature_confidence'])"
   ]
  },
  {
   "cell_type": "code",
   "execution_count": 264,
   "metadata": {},
   "outputs": [
    {
     "data": {
      "text/plain": [
       "dict_keys(['track_id', 'song_hotttnesss', 'artist_familiarity', 'artist_latitude', 'artist_longitude', 'key', 'key_confidence', 'loudness', 'mode', 'mode_confidence', 'tempo', 'time_signature', 'time_signature_confidence'])"
      ]
     },
     "execution_count": 264,
     "metadata": {},
     "output_type": "execute_result"
    }
   ],
   "source": [
    "d.keys()"
   ]
  },
  {
   "cell_type": "code",
   "execution_count": 265,
   "metadata": {},
   "outputs": [],
   "source": [
    "np.savetxt('song_meta.csv', \n",
    "           d_c,\n",
    "           fmt='%s', delimiter=delimiter, header=header, comments='')"
   ]
  }
 ],
 "metadata": {
  "kernelspec": {
   "display_name": "Python 3",
   "language": "python",
   "name": "python3"
  },
  "language_info": {
   "codemirror_mode": {
    "name": "ipython",
    "version": 3
   },
   "file_extension": ".py",
   "mimetype": "text/x-python",
   "name": "python",
   "nbconvert_exporter": "python",
   "pygments_lexer": "ipython3",
   "version": "3.7.4"
  }
 },
 "nbformat": 4,
 "nbformat_minor": 2
}
